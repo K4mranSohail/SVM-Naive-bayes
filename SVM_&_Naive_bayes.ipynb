{
  "nbformat": 4,
  "nbformat_minor": 0,
  "metadata": {
    "colab": {
      "provenance": []
    },
    "kernelspec": {
      "name": "python3",
      "display_name": "Python 3"
    },
    "language_info": {
      "name": "python"
    }
  },
  "cells": [
    {
      "cell_type": "markdown",
      "source": [
        "# Theoretical"
      ],
      "metadata": {
        "id": "Q7HuV7nr43AL"
      }
    },
    {
      "cell_type": "markdown",
      "source": [
        "Q1. What is a Support Vector Machine (SVM)?\n",
        "\n",
        " - SVM is a supervised machine learning algorithm used for classification and regression tasks. It finds the optimal hyperplane that best separates the data into classes. The goal is to maximize the margin between data points of different classes."
      ],
      "metadata": {
        "id": "c425AiCJ45V3"
      }
    },
    {
      "cell_type": "markdown",
      "source": [
        "Q2. What is the difference between Hard Margin and Soft Margin SVM?\n",
        "\n",
        "  - Hard Margin SVM: Assumes data is linearly separable. No misclassifications are allowed.\n",
        "\n",
        "  - Soft Margin SVM: Allows some misclassifications (slack variables) to handle non-linearly separable data and noise, controlled by the parameter C."
      ],
      "metadata": {
        "id": "7EPkfAZU5eDX"
      }
    },
    {
      "cell_type": "markdown",
      "source": [
        "Q3. What is the mathematical intuition behind SVM?\n",
        "\n",
        "SVM tries to solve the optimization problem:\n",
        "\n",
        "Minimize 1/2∥𝑤∥2\n",
        "\n",
        "\n",
        "Subject to 𝑦𝑖(𝑤𝑇𝑥𝑖+𝑏)≥1\n",
        "\n",
        "The margin is maximized by minimizing the norm of the weight vector w, ensuring the best generalization."
      ],
      "metadata": {
        "id": "dLd-Uysv5kno"
      }
    },
    {
      "cell_type": "markdown",
      "source": [
        "Q4. What is the role of Lagrange Multipliers in SVM?\n",
        "\n",
        " - Lagrange multipliers are used to convert the constrained optimization problem into a dual problem. This dual formulation helps in finding the optimal hyperplane and is especially useful when using kernel functions."
      ],
      "metadata": {
        "id": "L2sERcAd6L-q"
      }
    },
    {
      "cell_type": "markdown",
      "source": [
        "Q5. What are Support Vectors in SVM?\n",
        "\n",
        " - Support vectors are the data points that lie closest to the hyperplane. They are critical for defining the decision boundary. Removing them would change the hyperplane."
      ],
      "metadata": {
        "id": "OMPSEJH36Q5B"
      }
    },
    {
      "cell_type": "markdown",
      "source": [
        "Q6. What is a Support Vector Classifier (SVC)?\n",
        "\n",
        " - SVC is the classification implementation of SVM. It uses support vectors to find the optimal hyperplane to separate classes, either linearly or using kernels for non-linear separation."
      ],
      "metadata": {
        "id": "FYxg-36g6VoZ"
      }
    },
    {
      "cell_type": "markdown",
      "source": [
        "Q7. What is a Support Vector Regressor (SVR)?\n",
        "\n",
        "\n",
        " - SVR is the regression counterpart of SVM. Instead of maximizing margin between classes, SVR tries to fit as many data points as possible within a margin (epsilon-tube) while minimizing model complexity."
      ],
      "metadata": {
        "id": "bTrD8wmV6aWY"
      }
    },
    {
      "cell_type": "markdown",
      "source": [
        "Q8. What is the Kernel Trick in SVM?\n",
        "\n",
        " - The kernel trick allows SVM to operate in high-dimensional spaces without explicitly transforming the data. It computes inner products in transformed space efficiently using kernel functions like polynomial, RBF, etc."
      ],
      "metadata": {
        "id": "1OobkHwU6ft1"
      }
    },
    {
      "cell_type": "markdown",
      "source": [
        "Q9. Compare Linear Kernel, Polynomial Kernel, and RBF Kernel.\n",
        "\n",
        " In the context of Support Vector Machines (SVMs), different kernels are chosen based on the nature of the data and the complexity of the relationships within it. Here’s a comparison of Linear Kernel, Polynomial Kernel, and RBF (Radial Basis Function) Kernel:\n",
        "\n",
        "Linear Kernel: This kernel is used when the data is linearly separable. It is computationally less expensive and simpler compared to non-linear kernels. However, it may underperform when the relationship between features and the target variable is not linear. For instance, if the data is not linearly separable, a linear kernel might not be effective.\n",
        "\n",
        "Polynomial Kernel: This kernel introduces non-linearity by using polynomial functions of the original features. It can handle more complex relationships than the linear kernel but is more computationally intensive. The polynomial kernel can create decision boundaries that are curves or have turns, making it suitable for datasets where the relationship between features and classes follows a polynomial pattern.\n",
        "\n",
        "RBF (Radial Basis Function) Kernel: Also known as the Gaussian kernel, the RBF kernel is highly flexible and can capture complex and non-linear relationships in the data. It is particularly useful when the data is not easily separable with a straight line or curve. The RBF kernel can create decision boundaries around clusters of data points, making it a go-to choice for many non-linear datasets\n"
      ],
      "metadata": {
        "id": "PA99JYur6p8X"
      }
    },
    {
      "cell_type": "markdown",
      "source": [
        "Q10. What is the effect of the C parameter in SVM?\n",
        "\n",
        " - C (Regularization parameter) controls the trade-off between a smooth decision boundary and classifying training points correctly.\n",
        "\n",
        "High C: less margin, tries to avoid misclassifying points (overfitting).\n",
        "\n",
        "Low C: more margin, allows misclassification (better generalization)."
      ],
      "metadata": {
        "id": "T1vASEob7HT-"
      }
    },
    {
      "cell_type": "markdown",
      "source": [
        "Q11. What is the role of the Gamma parameter in RBF Kernel SVM?\n",
        "\n",
        "- Gamma defines how far the influence of a single training point reaches:\n",
        "\n",
        "Low gamma: broader influence (smoother boundary)\n",
        "\n",
        "High gamma: narrower influence (sharp boundary, may overfit)"
      ],
      "metadata": {
        "id": "q0fSiavD7MSC"
      }
    },
    {
      "cell_type": "markdown",
      "source": [
        "Q12. What is the Naïve Bayes classifier, and why is it called \"Naïve\"?\n",
        "\n",
        " - Naïve Bayes is a probabilistic classifier based on Bayes’ Theorem with the assumption of feature independence. It's called “naïve” because it assumes that all features are independent given the class, which is rarely true in real data."
      ],
      "metadata": {
        "id": "Xym10_pq7TC6"
      }
    },
    {
      "cell_type": "markdown",
      "source": [
        "Q13. What is Bayes’ Theorem?\n",
        "\n",
        " - Bayes' Theorem is a mathematical formula used to calculate the conditional probability of an event based on prior knowledge of conditions that might be related to the event. It provides a way to update probabilities based on new evidence, allowing one to find the probability of a cause given its effect"
      ],
      "metadata": {
        "id": "CqzxIyme7VAH"
      }
    },
    {
      "cell_type": "markdown",
      "source": [
        "Q14. Explain the differences between Gaussian, Multinomial, and Bernoulli Naïve Bayes.\n",
        "\n",
        " - Naive Bayes classifiers are probabilistic models that assume features are conditionally independent given the class label. They differ based on the type of data they handle and the underlying probability distribution they assume for the features.\n",
        "\n",
        "Gaussian Naive Bayes is suitable for continuous features, assuming that the continuous values associated with each class follow a normal (Gaussian) distribution. This makes it appropriate for tasks involving real-valued features such as height, weight, etc.\n",
        "\n",
        "Multinomial Naive Bayes is commonly used for text classification tasks where features represent the frequency or count of occurrences of certain events, typically words in a document. It assumes that the data follows a multinomial distribution, making it effective for scenarios like spam filtering based on word counts.\n",
        "\n",
        "Bernoulli Naive Bayes, on the other hand, is designed for binary classification tasks where features indicate the presence or absence of certain conditions. It assumes a Bernoulli distribution for the data, meaning it treats features as binary (0 or 1) values, which is useful for tasks like spam detection based on the presence of specific keywords"
      ],
      "metadata": {
        "id": "cu-ipD-P7n76"
      }
    },
    {
      "cell_type": "markdown",
      "source": [
        "Q15. When should you use Gaussian Naïve Bayes over other variants?\n",
        "\n",
        " - Use Gaussian Naïve Bayes when your features are continuous and follow a normal distribution, such as in sensor data, medical records, or any numerical datasets."
      ],
      "metadata": {
        "id": "ltLRa5ll71cQ"
      }
    },
    {
      "cell_type": "markdown",
      "source": [
        "Q16. What are the key assumptions made by Naïve Bayes?\n",
        "\n",
        "1.Feature independence given the class.\n",
        "\n",
        "2.Each feature contributes independently to the probability.\n",
        "\n",
        "3.The model assumes all features are equally important."
      ],
      "metadata": {
        "id": "Pb6c5_V878OI"
      }
    },
    {
      "cell_type": "markdown",
      "source": [
        "Q17. What are the advantages and disadvantages of Naïve Bayes?\n",
        "\n",
        "  - Advantages:\n",
        "\n",
        "  Simple and fast\n",
        "\n",
        "  Performs well with high-dimensional data\n",
        "\n",
        "  Works well with small datasets\n",
        "\n",
        "  - Disadvantages:\n",
        "\n",
        "  Assumption of feature independence\n",
        "\n",
        "  Poor performance with highly correlated features"
      ],
      "metadata": {
        "id": "XpNi35eF8Drr"
      }
    },
    {
      "cell_type": "markdown",
      "source": [
        "Q18. Why is Naïve Bayes a good choice for text classification?\n",
        "\n",
        " - Text features (word occurrences) are often independent and high-dimensional, making Naïve Bayes:\n",
        "\n",
        "    Computationally efficient\n",
        "\n",
        "    Robust with sparse data\n",
        "\n",
        "    Effective even with limited data"
      ],
      "metadata": {
        "id": "6MCf0X6N8Obs"
      }
    },
    {
      "cell_type": "markdown",
      "source": [
        "Q19. Compare SVM and Naïve Bayes for classification tasks.\n",
        "\n",
        " -SVM vs Naïve Bayes Classification\n",
        "Naive Bayes and Support Vector Machines (SVM) are both popular algorithms used for classification tasks, each with distinct advantages and limitations.\n",
        "\n",
        " - Advantages:\n",
        "\n",
        "Naive Bayes is simple and easy to implement, making it computationally efficient and suitable for small datasets.\n",
        " It works well when the assumption of feature independence holds true.\n",
        "SVMs are effective in high-dimensional spaces and can capture complex relationships through the use of kernel functions, allowing them to handle non-linear classification tasks efficiently.\n",
        "Efficiency:\n",
        "\n",
        "Naive Bayes offers fast training and prediction times, making it ideal for quick classification tasks.\n",
        "SVM training can be computationally expensive, especially with large datasets, but once trained, predictions are faster.\n",
        "\n",
        " - Performance:\n",
        "\n",
        "Naive Bayes performs well in simple classification tasks and can handle noisy data well.\n",
        "SVMs generally offer better performance in complex tasks, particularly in high-dimensional spaces, but they can be sensitive to noisy data, especially if it affects the positioning of the decision boundary.\n",
        "\n",
        " - Scalability:\n",
        "\n",
        "Naive Bayes scales well with large datasets and features, maintaining efficiency even as the size of the dataset grows.\n",
        "SVMs are less scalable with large datasets and can be memory-intensive for large feature spaces.\n",
        "\n",
        "- Interpretability:\n",
        "\n",
        "Naive Bayes provides straightforward interpretability, directly calculating class probabilities, which can be advantageous for understanding the reasoning behind classifications.\n",
        "SVMs provide less interpretability, with decision boundaries being harder to interpret, and they offer little insight into feature importance.\n",
        "\n",
        " - Robustness:\n",
        "\n",
        "Naive Bayes can be sensitive to feature distribution and violations of the independence assumption.\n",
        "SVMs are more robust to outliers and noise, making them a reliable choice in scenarios where data quality is a concern.\n",
        "\n",
        " - Limitations:\n",
        "\n",
        "Naive Bayes' performance can be challenged by feature dependence, impacting its accuracy on intricate relationships.\n",
        "SVMs require significant computational resources for large datasets and rely heavily on precise tuning of kernel and regularization parameters."
      ],
      "metadata": {
        "id": "es-ZSKoa8WIs"
      }
    },
    {
      "cell_type": "markdown",
      "source": [
        "Q20. How does Laplace Smoothing help in Naïve Bayes?\n",
        "\n",
        "- Laplace Smoothing avoids zero probability for unseen words/features in test data. It adds 1 to each count to ensure no probability becomes zero, making the model more robust."
      ],
      "metadata": {
        "id": "3KHgw8Yo86H5"
      }
    },
    {
      "cell_type": "markdown",
      "source": [
        "# Practical"
      ],
      "metadata": {
        "id": "VImWqPA09AFF"
      }
    },
    {
      "cell_type": "code",
      "source": [
        "#21. Write a Python program to train an SVM Classifier on the Iris dataset and evaluate accuracy\n",
        "\n",
        "# Import necessary libraries\n",
        "from sklearn import datasets\n",
        "from sklearn.model_selection import train_test_split\n",
        "from sklearn.preprocessing import StandardScaler\n",
        "from sklearn.svm import SVC\n",
        "from sklearn.metrics import accuracy_score, classification_report, confusion_matrix\n",
        "\n",
        "# Load the Iris dataset\n",
        "iris = datasets.load_iris()\n",
        "X = iris.data  # features\n",
        "y = iris.target  # target labels\n",
        "\n",
        "# Split the dataset into training and testing sets\n",
        "X_train, X_test, y_train, y_test = train_test_split(X, y, test_size=0.3, random_state=42)\n",
        "\n",
        "# Standardize the features\n",
        "scaler = StandardScaler()\n",
        "X_train_scaled = scaler.fit_transform(X_train)\n",
        "X_test_scaled = scaler.transform(X_test)\n",
        "\n",
        "# Train an SVM classifier\n",
        "svm_model = SVC(kernel='linear')  # you can also try 'rbf', 'poly'\n",
        "svm_model.fit(X_train_scaled, y_train)\n",
        "\n",
        "# Predict on test data\n",
        "y_pred = svm_model.predict(X_test_scaled)\n",
        "\n",
        "# Evaluate the model\n",
        "accuracy = accuracy_score(y_test, y_pred)\n",
        "print(\"SVM Classifier Accuracy on Iris dataset:\", accuracy)\n",
        "print(\"\\nClassification Report:\\n\", classification_report(y_test, y_pred))\n",
        "print(\"Confusion Matrix:\\n\", confusion_matrix(y_test, y_pred))\n"
      ],
      "metadata": {
        "colab": {
          "base_uri": "https://localhost:8080/"
        },
        "id": "rmG6dF-A9HoM",
        "outputId": "636eb03e-bd02-4d2e-c0fc-a112bc05015b"
      },
      "execution_count": 27,
      "outputs": [
        {
          "output_type": "stream",
          "name": "stdout",
          "text": [
            "SVM Classifier Accuracy on Iris dataset: 0.9777777777777777\n",
            "\n",
            "Classification Report:\n",
            "               precision    recall  f1-score   support\n",
            "\n",
            "           0       1.00      1.00      1.00        19\n",
            "           1       1.00      0.92      0.96        13\n",
            "           2       0.93      1.00      0.96        13\n",
            "\n",
            "    accuracy                           0.98        45\n",
            "   macro avg       0.98      0.97      0.97        45\n",
            "weighted avg       0.98      0.98      0.98        45\n",
            "\n",
            "Confusion Matrix:\n",
            " [[19  0  0]\n",
            " [ 0 12  1]\n",
            " [ 0  0 13]]\n"
          ]
        }
      ]
    },
    {
      "cell_type": "code",
      "source": [
        "#22. Write a Python program to train two SVM classifiers with Linear and RBF kernels on the Wine dataset, then compare their accuracies:\n",
        "\n",
        "# Import necessary libraries\n",
        "from sklearn.datasets import load_wine\n",
        "from sklearn.model_selection import train_test_split\n",
        "from sklearn.preprocessing import StandardScaler\n",
        "from sklearn.svm import SVC\n",
        "from sklearn.metrics import accuracy_score\n",
        "\n",
        "# Load the Wine dataset\n",
        "wine = load_wine()\n",
        "X = wine.data\n",
        "y = wine.target\n",
        "\n",
        "# Split into training and test sets\n",
        "X_train, X_test, y_train, y_test = train_test_split(X, y, test_size=0.3, random_state=42)\n",
        "\n",
        "# Feature Scaling\n",
        "scaler = StandardScaler()\n",
        "X_train_scaled = scaler.fit_transform(X_train)\n",
        "X_test_scaled = scaler.transform(X_test)\n",
        "\n",
        "# Train SVM with Linear kernel\n",
        "linear_svm = SVC(kernel='linear')\n",
        "linear_svm.fit(X_train_scaled, y_train)\n",
        "y_pred_linear = linear_svm.predict(X_test_scaled)\n",
        "linear_accuracy = accuracy_score(y_test, y_pred_linear)\n",
        "\n",
        "# Train SVM with RBF kernel\n",
        "rbf_svm = SVC(kernel='rbf')\n",
        "rbf_svm.fit(X_train_scaled, y_train)\n",
        "y_pred_rbf = rbf_svm.predict(X_test_scaled)\n",
        "rbf_accuracy = accuracy_score(y_test, y_pred_rbf)\n",
        "\n",
        "# Compare Accuracies\n",
        "print(\"Accuracy with Linear Kernel SVM:\", linear_accuracy)\n",
        "print(\"Accuracy with RBF Kernel SVM:\", rbf_accuracy)\n",
        "\n",
        "# Optional: display which performed better\n",
        "if linear_accuracy > rbf_accuracy:\n",
        "    print(\"Linear Kernel performed better.\")\n",
        "elif rbf_accuracy > linear_accuracy:\n",
        "    print(\"RBF Kernel performed better.\")\n",
        "else:\n",
        "    print(\"Both kernels performed equally well.\")\n"
      ],
      "metadata": {
        "colab": {
          "base_uri": "https://localhost:8080/"
        },
        "id": "Yr_6lgScBp5x",
        "outputId": "e95a6c7b-3ae7-49da-e53b-698ca7bd3950"
      },
      "execution_count": 28,
      "outputs": [
        {
          "output_type": "stream",
          "name": "stdout",
          "text": [
            "Accuracy with Linear Kernel SVM: 0.9814814814814815\n",
            "Accuracy with RBF Kernel SVM: 0.9814814814814815\n",
            "Both kernels performed equally well.\n"
          ]
        }
      ]
    },
    {
      "cell_type": "code",
      "source": [
        "#23. Write a Python program to train an SVM Regressor (SVR) on a housing dataset and evaluate it using Mean Squared Error (MSE):\n",
        "\n",
        "# Import necessary libraries\n",
        "from sklearn.datasets import load_wine\n",
        "from sklearn.model_selection import train_test_split\n",
        "from sklearn.preprocessing import StandardScaler\n",
        "from sklearn.svm import SVC\n",
        "from sklearn.metrics import accuracy_score\n",
        "\n",
        "# Load the Wine dataset\n",
        "wine = load_wine()\n",
        "X = wine.data\n",
        "y = wine.target\n",
        "\n",
        "# Split into training and test sets\n",
        "X_train, X_test, y_train, y_test = train_test_split(X, y, test_size=0.3, random_state=42)\n",
        "\n",
        "# Feature Scaling\n",
        "scaler = StandardScaler()\n",
        "X_train_scaled = scaler.fit_transform(X_train)\n",
        "X_test_scaled = scaler.transform(X_test)\n",
        "\n",
        "# Train SVM with Linear kernel\n",
        "linear_svm = SVC(kernel='linear')\n",
        "linear_svm.fit(X_train_scaled, y_train)\n",
        "y_pred_linear = linear_svm.predict(X_test_scaled)\n",
        "linear_accuracy = accuracy_score(y_test, y_pred_linear)\n",
        "\n",
        "# Train SVM with RBF kernel\n",
        "rbf_svm = SVC(kernel='rbf')\n",
        "rbf_svm.fit(X_train_scaled, y_train)\n",
        "y_pred_rbf = rbf_svm.predict(X_test_scaled)\n",
        "rbf_accuracy = accuracy_score(y_test, y_pred_rbf)\n",
        "\n",
        "# Compare Accuracies\n",
        "print(\"Accuracy with Linear Kernel SVM:\", linear_accuracy)\n",
        "print(\"Accuracy with RBF Kernel SVM:\", rbf_accuracy)\n",
        "\n",
        "# Optional: display which performed better\n",
        "if linear_accuracy > rbf_accuracy:\n",
        "    print(\"Linear Kernel performed better.\")\n",
        "elif rbf_accuracy > linear_accuracy:\n",
        "    print(\"RBF Kernel performed better.\")\n",
        "else:\n",
        "    print(\"Both kernels performed equally well.\")\n"
      ],
      "metadata": {
        "colab": {
          "base_uri": "https://localhost:8080/"
        },
        "id": "Bj2kqj49B-RF",
        "outputId": "faae81d9-be8e-4cf7-e981-5c8f37bbdae7"
      },
      "execution_count": 29,
      "outputs": [
        {
          "output_type": "stream",
          "name": "stdout",
          "text": [
            "Accuracy with Linear Kernel SVM: 0.9814814814814815\n",
            "Accuracy with RBF Kernel SVM: 0.9814814814814815\n",
            "Both kernels performed equally well.\n"
          ]
        }
      ]
    },
    {
      "cell_type": "code",
      "source": [
        "#24. Write a Python program to train an SVM Classifier with a Polynomial Kernel and visualize the decision boundary:\n",
        "\n",
        "import numpy as np\n",
        "import matplotlib.pyplot as plt\n",
        "from sklearn.datasets import make_moons\n",
        "from sklearn.model_selection import train_test_split\n",
        "from sklearn.preprocessing import StandardScaler\n",
        "from sklearn.svm import SVC\n",
        "\n",
        "# Generate synthetic 2D data (make_moons)\n",
        "X, y = make_moons(n_samples=200, noise=0.2, random_state=42)\n",
        "\n",
        "# Train-test split\n",
        "X_train, X_test, y_train, y_test = train_test_split(X, y, test_size=0.3, random_state=42)\n",
        "\n",
        "# Feature scaling\n",
        "scaler = StandardScaler()\n",
        "X_train_scaled = scaler.fit_transform(X_train)\n",
        "X_test_scaled = scaler.transform(X_test)\n",
        "\n",
        "# Train SVM with Polynomial kernel\n",
        "poly_svm = SVC(kernel='poly', degree=3, C=1.0)\n",
        "poly_svm.fit(X_train_scaled, y_train)\n",
        "\n",
        "# Function to plot decision boundary\n",
        "def plot_decision_boundary(clf, X, y, title):\n",
        "    h = 0.02\n",
        "    x_min, x_max = X[:, 0].min() - 1, X[:, 0].max() + 1\n",
        "    y_min, y_max = X[:, 1].min() - 1, X[:, 1].max() + 1\n",
        "    xx, yy = np.meshgrid(np.arange(x_min, x_max, h),\n",
        "                         np.arange(y_min, y_max, h))\n",
        "\n",
        "    Z = clf.predict(np.c_[xx.ravel(), yy.ravel()])\n",
        "    Z = Z.reshape(xx.shape)\n",
        "\n",
        "    plt.contourf(xx, yy, Z, alpha=0.4, cmap=plt.cm.coolwarm)\n",
        "    plt.scatter(X[:, 0], X[:, 1], c=y, cmap=plt.cm.coolwarm, edgecolors='k')\n",
        "    plt.title(title)\n",
        "    plt.xlabel('Feature 1')\n",
        "    plt.ylabel('Feature 2')\n",
        "    plt.show()\n",
        "\n",
        "# Visualize\n",
        "plot_decision_boundary(poly_svm, X_test_scaled, y_test, \"SVM with Polynomial Kernel\")\n"
      ],
      "metadata": {
        "colab": {
          "base_uri": "https://localhost:8080/",
          "height": 472
        },
        "id": "ZMFMle1FCYL0",
        "outputId": "2e55dc59-7516-4246-daa0-9b1cd9ebbc98"
      },
      "execution_count": 30,
      "outputs": [
        {
          "output_type": "display_data",
          "data": {
            "text/plain": [
              "<Figure size 640x480 with 1 Axes>"
            ],
            "image/png": "[encoded data removed]"
          },
          "metadata": {}
        }
      ]
    },
    {
      "cell_type": "code",
      "source": [
        "#25. Write a Python program to train a Gaussian Naïve Bayes classifier on the Breast Cancer dataset and evaluate accuracy:\n",
        "\n",
        "# Import necessary libraries\n",
        "from sklearn.datasets import load_breast_cancer\n",
        "from sklearn.model_selection import train_test_split\n",
        "from sklearn.preprocessing import StandardScaler\n",
        "from sklearn.naive_bayes import GaussianNB\n",
        "from sklearn.metrics import accuracy_score, classification_report, confusion_matrix\n",
        "\n",
        "# Load the Breast Cancer dataset\n",
        "data = load_breast_cancer()\n",
        "X = data.data\n",
        "y = data.target\n",
        "\n",
        "# Train-test split\n",
        "X_train, X_test, y_train, y_test = train_test_split(X, y, test_size=0.3, random_state=42)\n",
        "\n",
        "# Feature scaling\n",
        "scaler = StandardScaler()\n",
        "X_train_scaled = scaler.fit_transform(X_train)\n",
        "X_test_scaled = scaler.transform(X_test)\n",
        "\n",
        "# Train Gaussian Naïve Bayes model\n",
        "model = GaussianNB()\n",
        "model.fit(X_train_scaled, y_train)\n",
        "\n",
        "# Make predictions\n",
        "y_pred = model.predict(X_test_scaled)\n",
        "\n",
        "# Evaluate the model\n",
        "accuracy = accuracy_score(y_test, y_pred)\n",
        "print(\"Gaussian Naïve Bayes Accuracy:\", accuracy)\n",
        "print(\"\\nClassification Report:\\n\", classification_report(y_test, y_pred))\n",
        "print(\"Confusion Matrix:\\n\", confusion_matrix(y_test, y_pred))\n"
      ],
      "metadata": {
        "colab": {
          "base_uri": "https://localhost:8080/"
        },
        "id": "wTp-NASRCloe",
        "outputId": "0a1cdc4b-401c-440f-abe9-494d627dd7ce"
      },
      "execution_count": 31,
      "outputs": [
        {
          "output_type": "stream",
          "name": "stdout",
          "text": [
            "Gaussian Naïve Bayes Accuracy: 0.935672514619883\n",
            "\n",
            "Classification Report:\n",
            "               precision    recall  f1-score   support\n",
            "\n",
            "           0       0.92      0.90      0.91        63\n",
            "           1       0.94      0.95      0.95       108\n",
            "\n",
            "    accuracy                           0.94       171\n",
            "   macro avg       0.93      0.93      0.93       171\n",
            "weighted avg       0.94      0.94      0.94       171\n",
            "\n",
            "Confusion Matrix:\n",
            " [[ 57   6]\n",
            " [  5 103]]\n"
          ]
        }
      ]
    },
    {
      "cell_type": "code",
      "source": [
        "#26. Write a Python program to train a Multinomial Naïve Bayes classifier for text classification using the 20 Newsgroups dataset.\n",
        "\n",
        "# Import libraries\n",
        "from sklearn.datasets import fetch_20newsgroups\n",
        "from sklearn.feature_extraction.text import CountVectorizer\n",
        "from sklearn.naive_bayes import MultinomialNB\n",
        "from sklearn.model_selection import train_test_split\n",
        "from sklearn.metrics import accuracy_score, classification_report, confusion_matrix\n",
        "\n",
        "# Load the 20 Newsgroups dataset (subset for speed)\n",
        "categories = ['sci.space', 'rec.sport.baseball', 'comp.graphics', 'talk.politics.misc']\n",
        "newsgroups = fetch_20newsgroups(subset='all', categories=categories, remove=('headers', 'footers', 'quotes'))\n",
        "\n",
        "# Split data\n",
        "X_train, X_test, y_train, y_test = train_test_split(newsgroups.data, newsgroups.target, test_size=0.3, random_state=42)\n",
        "\n",
        "# Convert text to count vectors\n",
        "vectorizer = CountVectorizer(stop_words='english')\n",
        "X_train_vec = vectorizer.fit_transform(X_train)\n",
        "X_test_vec = vectorizer.transform(X_test)\n",
        "\n",
        "# Train Multinomial Naïve Bayes\n",
        "model = MultinomialNB()\n",
        "model.fit(X_train_vec, y_train)\n",
        "\n",
        "# Predict and evaluate\n",
        "y_pred = model.predict(X_test_vec)\n",
        "\n",
        "print(\"Multinomial Naïve Bayes Accuracy:\", accuracy_score(y_test, y_pred))\n",
        "print(\"\\nClassification Report:\\n\", classification_report(y_test, y_pred, target_names=newsgroups.target_names))\n",
        "print(\"Confusion Matrix:\\n\", confusion_matrix(y_test, y_pred))\n"
      ],
      "metadata": {
        "colab": {
          "base_uri": "https://localhost:8080/"
        },
        "id": "UT_JRgAbC6z9",
        "outputId": "4ba4c45e-1d5a-4737-c86c-674dddf6f6bd"
      },
      "execution_count": 32,
      "outputs": [
        {
          "output_type": "stream",
          "name": "stdout",
          "text": [
            "Multinomial Naïve Bayes Accuracy: 0.8972296693476318\n",
            "\n",
            "Classification Report:\n",
            "                     precision    recall  f1-score   support\n",
            "\n",
            "     comp.graphics       0.92      0.91      0.91       285\n",
            "rec.sport.baseball       0.95      0.91      0.93       309\n",
            "         sci.space       0.86      0.86      0.86       295\n",
            "talk.politics.misc       0.86      0.91      0.88       230\n",
            "\n",
            "          accuracy                           0.90      1119\n",
            "         macro avg       0.90      0.90      0.90      1119\n",
            "      weighted avg       0.90      0.90      0.90      1119\n",
            "\n",
            "Confusion Matrix:\n",
            " [[259   6  15   5]\n",
            " [  6 281  13   9]\n",
            " [ 15   5 254  21]\n",
            " [  2   5  13 210]]\n"
          ]
        }
      ]
    },
    {
      "cell_type": "code",
      "source": [
        "#27.Write a Python program to train an SVM Classifier with different C values and compare the decision boundaries visually\n",
        "\n",
        "from sklearn import datasets\n",
        "from sklearn.svm import SVC\n",
        "from sklearn.model_selection import train_test_split\n",
        "import matplotlib.pyplot as plt\n",
        "from mlxtend.plotting import plot_decision_regions\n",
        "\n",
        "X, y = datasets.make_classification(n_samples=100, n_features=2, n_informative=2, n_redundant=0, random_state=1)\n",
        "X_train, X_test, y_train, y_test = train_test_split(X, y, random_state=1)\n",
        "\n",
        "C_values = [0.1, 1, 10]\n",
        "for C in C_values:\n",
        "    model = SVC(C=C, kernel='linear')\n",
        "    model.fit(X_train, y_train)\n",
        "    plt.figure()\n",
        "    plot_decision_regions(X, y, clf=model)\n",
        "    plt.title(f\"SVM with C={C}\")\n",
        "    plt.show()\n"
      ],
      "metadata": {
        "colab": {
          "base_uri": "https://localhost:8080/",
          "height": 1000
        },
        "id": "Qy6WIOPy-Mgo",
        "outputId": "e271b7cb-dccf-4c02-f269-1687fcc171c7"
      },
      "execution_count": 1,
      "outputs": [
        {
          "output_type": "display_data",
          "data": {
            "text/plain": [
              "<Figure size 640x480 with 1 Axes>"
            ],
            "image/png": "[encoded data removed]"
          },
          "metadata": {}
        },
        {
          "output_type": "display_data",
          "data": {
            "text/plain": [
              "<Figure size 640x480 with 1 Axes>"
            ],
            "image/png": "[encoded data removed]"
          },
          "metadata": {}
        },
        {
          "output_type": "display_data",
          "data": {
            "text/plain": [
              "<Figure size 640x480 with 1 Axes>"
            ],
            "image/png": "[encoded data removed]"
          },
          "metadata": {}
        }
      ]
    },
    {
      "cell_type": "code",
      "source": [
        "#28. Write a Python program to train a Bernoulli Naïve Bayes classifier for binary classification on a dataset with binary features\n",
        "\n",
        "from sklearn.naive_bayes import BernoulliNB\n",
        "from sklearn.model_selection import train_test_split\n",
        "from sklearn.metrics import accuracy_score\n",
        "from sklearn.datasets import make_classification\n",
        "\n",
        "X, y = make_classification(n_samples=1000, n_features=20, n_informative=10)\n",
        "X = (X > 0).astype(int)  # Binarize features\n",
        "X_train, X_test, y_train, y_test = train_test_split(X, y)\n",
        "\n",
        "model = BernoulliNB()\n",
        "model.fit(X_train, y_train)\n",
        "print(\"Accuracy:\", accuracy_score(y_test, model.predict(X_test)))\n"
      ],
      "metadata": {
        "colab": {
          "base_uri": "https://localhost:8080/"
        },
        "id": "xWEl-oWc-SJV",
        "outputId": "326af9e5-6bc7-461f-a972-6ebaa0b67197"
      },
      "execution_count": 2,
      "outputs": [
        {
          "output_type": "stream",
          "name": "stdout",
          "text": [
            "Accuracy: 0.812\n"
          ]
        }
      ]
    },
    {
      "cell_type": "code",
      "source": [
        "#29. Write a Python program to apply feature scaling before training an SVM model and compare results with unscaled data\n",
        "\n",
        "from sklearn.preprocessing import StandardScaler\n",
        "from sklearn.pipeline import Pipeline\n",
        "\n",
        "pipe = Pipeline([\n",
        "    ('scaler', StandardScaler()),\n",
        "    ('svm', SVC())\n",
        "])\n",
        "pipe.fit(X_train, y_train)\n",
        "print(\"Scaled accuracy:\", pipe.score(X_test, y_test))\n"
      ],
      "metadata": {
        "colab": {
          "base_uri": "https://localhost:8080/"
        },
        "id": "W4uYMt1n-arf",
        "outputId": "b53e3396-6900-4241-d8a3-cb5838c2a881"
      },
      "execution_count": 3,
      "outputs": [
        {
          "output_type": "stream",
          "name": "stdout",
          "text": [
            "Scaled accuracy: 0.848\n"
          ]
        }
      ]
    },
    {
      "cell_type": "code",
      "source": [
        "#30.  Write a Python program to train a Gaussian Naïve Bayes model and compare the predictions before and after Laplace Smoothing\n",
        "\n",
        "from sklearn.naive_bayes import GaussianNB\n",
        "\n",
        "gnb = GaussianNB()\n",
        "gnb.fit(X_train, y_train)\n",
        "print(\"Gaussian NB Accuracy:\", gnb.score(X_test, y_test))\n",
        "# Laplace smoothing is not applicable in GaussianNB (only in Multinomial/Bernoulli)\n"
      ],
      "metadata": {
        "colab": {
          "base_uri": "https://localhost:8080/"
        },
        "id": "nzL6rYso-i0v",
        "outputId": "f8c7f77f-2360-4fef-88e8-bbde03e45b00"
      },
      "execution_count": 4,
      "outputs": [
        {
          "output_type": "stream",
          "name": "stdout",
          "text": [
            "Gaussian NB Accuracy: 0.812\n"
          ]
        }
      ]
    },
    {
      "cell_type": "code",
      "source": [
        "#31. Write a Python program to train an SVM Classifier and use GridSearchCV to tune the hyperparameters (C, gamma, kernel)\n",
        "\n",
        "from sklearn.model_selection import GridSearchCV\n",
        "\n",
        "param_grid = {\n",
        "    'C': [0.1, 1, 10],\n",
        "    'gamma': ['scale', 0.01, 0.1],\n",
        "    'kernel': ['linear', 'rbf']\n",
        "}\n",
        "grid = GridSearchCV(SVC(), param_grid, cv=5)\n",
        "grid.fit(X_train, y_train)\n",
        "print(\"Best Params:\", grid.best_params_)\n",
        "print(\"Best Score:\", grid.best_score_)\n"
      ],
      "metadata": {
        "colab": {
          "base_uri": "https://localhost:8080/"
        },
        "id": "SNYll5Ih-qu8",
        "outputId": "c68fc083-a028-4cf3-b26e-e6785cb57840"
      },
      "execution_count": 5,
      "outputs": [
        {
          "output_type": "stream",
          "name": "stdout",
          "text": [
            "Best Params: {'C': 1, 'gamma': 'scale', 'kernel': 'rbf'}\n",
            "Best Score: 0.8373333333333333\n"
          ]
        }
      ]
    },
    {
      "cell_type": "code",
      "source": [
        "#32. Write a Python program to train an SVM Classifier on an imbalanced dataset and apply class weighting and check it improve accuracy\n",
        "\n",
        "from sklearn.datasets import make_classification\n",
        "from sklearn.utils.class_weight import compute_class_weight\n",
        "\n",
        "X, y = make_classification(n_classes=2, weights=[0.9, 0.1], n_samples=1000)\n",
        "X_train, X_test, y_train, y_test = train_test_split(X, y)\n",
        "\n",
        "model = SVC(class_weight='balanced')\n",
        "model.fit(X_train, y_train)\n",
        "print(\"Accuracy:\", model.score(X_test, y_test))\n"
      ],
      "metadata": {
        "colab": {
          "base_uri": "https://localhost:8080/"
        },
        "id": "mRIPO5QA-yXH",
        "outputId": "8400a5b8-3967-4237-b01f-4043b1fbd7e8"
      },
      "execution_count": 6,
      "outputs": [
        {
          "output_type": "stream",
          "name": "stdout",
          "text": [
            "Accuracy: 0.9\n"
          ]
        }
      ]
    },
    {
      "cell_type": "code",
      "source": [
        "#33. Write a Python program to implement a Naïve Bayes classifier for spam detection using email data\n",
        "\n",
        "from sklearn.feature_extraction.text import CountVectorizer\n",
        "from sklearn.naive_bayes import MultinomialNB\n",
        "\n",
        "emails = [\"Free money now!\", \"Hi, let’s meet\", \"Win cash instantly\", \"Hello friend\"]\n",
        "labels = [1, 0, 1, 0]  # 1=spam, 0=ham\n",
        "\n",
        "vectorizer = CountVectorizer()\n",
        "X = vectorizer.fit_transform(emails)\n",
        "\n",
        "model = MultinomialNB()\n",
        "model.fit(X, labels)\n",
        "print(model.predict(vectorizer.transform([\"Free cash now!\"])))  # Predict spam\n"
      ],
      "metadata": {
        "colab": {
          "base_uri": "https://localhost:8080/"
        },
        "id": "9n2hG_EG-6HQ",
        "outputId": "64dff860-bfe3-4cd5-d611-68be6cdf6ffd"
      },
      "execution_count": 7,
      "outputs": [
        {
          "output_type": "stream",
          "name": "stdout",
          "text": [
            "[1]\n"
          ]
        }
      ]
    },
    {
      "cell_type": "code",
      "source": [
        "#34. Write a Python program to train an SVM Classifier and a Naïve Bayes Classifier on the same dataset and compare their accuracy\n",
        "\n",
        "from sklearn.naive_bayes import GaussianNB\n",
        "\n",
        "svm = SVC()\n",
        "nb = GaussianNB()\n",
        "\n",
        "svm.fit(X_train, y_train)\n",
        "nb.fit(X_train, y_train)\n",
        "\n",
        "print(\"SVM accuracy:\", svm.score(X_test, y_test))\n",
        "print(\"Naïve Bayes accuracy:\", nb.score(X_test, y_test))\n"
      ],
      "metadata": {
        "colab": {
          "base_uri": "https://localhost:8080/"
        },
        "id": "8yYScUfh_ApD",
        "outputId": "25cc2941-a335-4466-afd5-644060e52a0e"
      },
      "execution_count": 8,
      "outputs": [
        {
          "output_type": "stream",
          "name": "stdout",
          "text": [
            "SVM accuracy: 0.94\n",
            "Naïve Bayes accuracy: 0.9\n"
          ]
        }
      ]
    },
    {
      "cell_type": "code",
      "source": [
        "#35. Write a Python program to perform feature selection before training a Naïve Bayes classifier and compare results\n",
        "\n",
        "from sklearn.feature_selection import SelectKBest, chi2\n",
        "\n",
        "X_new = SelectKBest(chi2, k=10).fit_transform(X, y)\n",
        "X_train_fs, X_test_fs, y_train_fs, y_test_fs = train_test_split(X_new, y)\n",
        "\n",
        "model = GaussianNB()\n",
        "model.fit(X_train_fs, y_train_fs)\n",
        "print(\"Accuracy after feature selection:\", model.score(X_test_fs, y_test_fs))\n"
      ],
      "metadata": {
        "id": "kqwkBP1__Kdo"
      },
      "execution_count": 10,
      "outputs": []
    },
    {
      "cell_type": "code",
      "source": [
        "#36. Write a Python program to train an SVM Classifier using One-vs-Rest (OvR) and One-vs-One (OvO) strategies on the Wine dataset and compare their accuracy\n",
        "\n",
        "from sklearn.multiclass import OneVsRestClassifier, OneVsOneClassifier\n",
        "from sklearn.datasets import load_wine\n",
        "\n",
        "X, y = load_wine(return_X_y=True)\n",
        "\n",
        "ovr = OneVsRestClassifier(SVC())\n",
        "ovo = OneVsOneClassifier(SVC())\n",
        "\n",
        "ovr.fit(X, y)\n",
        "ovo.fit(X, y)\n",
        "\n",
        "print(\"OvR Accuracy:\", ovr.score(X, y))\n",
        "print(\"OvO Accuracy:\", ovo.score(X, y))\n"
      ],
      "metadata": {
        "colab": {
          "base_uri": "https://localhost:8080/"
        },
        "id": "zQlFjUnQ_TGz",
        "outputId": "f8ae532b-b906-410a-9230-b810cb35be46"
      },
      "execution_count": 11,
      "outputs": [
        {
          "output_type": "stream",
          "name": "stdout",
          "text": [
            "OvR Accuracy: 0.6853932584269663\n",
            "OvO Accuracy: 0.7247191011235955\n"
          ]
        }
      ]
    },
    {
      "cell_type": "code",
      "source": [
        "#37. Write a Python program to train an SVM Classifier using Linear, Polynomial, and RBF kernels on the Breast Cancer dataset and compare their accuracy\n",
        "\n",
        "from sklearn.datasets import load_breast_cancer\n",
        "\n",
        "X, y = load_breast_cancer(return_X_y=True)\n",
        "X_train, X_test, y_train, y_test = train_test_split(X, y)\n",
        "\n",
        "for kernel in ['linear', 'poly', 'rbf']:\n",
        "    model = SVC(kernel=kernel)\n",
        "    model.fit(X_train, y_train)\n",
        "    print(f\"{kernel} kernel accuracy:\", model.score(X_test, y_test))\n"
      ],
      "metadata": {
        "colab": {
          "base_uri": "https://localhost:8080/"
        },
        "id": "FgHmnbI8_kN_",
        "outputId": "63aa88ba-7e43-4813-ac02-b5ab419c6909"
      },
      "execution_count": 12,
      "outputs": [
        {
          "output_type": "stream",
          "name": "stdout",
          "text": [
            "linear kernel accuracy: 0.958041958041958\n",
            "poly kernel accuracy: 0.9090909090909091\n",
            "rbf kernel accuracy: 0.9230769230769231\n"
          ]
        }
      ]
    },
    {
      "cell_type": "code",
      "source": [
        "#38. Write a Python program to train an SVM Classifier using Stratified K-Fold Cross-Validation and compute the average accuracy\n",
        "\n",
        "from sklearn.model_selection import StratifiedKFold, cross_val_score\n",
        "\n",
        "skf = StratifiedKFold(n_splits=5)\n",
        "scores = cross_val_score(SVC(), X, y, cv=skf)\n",
        "print(\"Average accuracy:\", scores.mean())\n"
      ],
      "metadata": {
        "colab": {
          "base_uri": "https://localhost:8080/"
        },
        "id": "5mq7PKiN_sd0",
        "outputId": "62c1515f-f9fe-4939-b149-139a30cfa73e"
      },
      "execution_count": 13,
      "outputs": [
        {
          "output_type": "stream",
          "name": "stdout",
          "text": [
            "Average accuracy: 0.9121720229777983\n"
          ]
        }
      ]
    },
    {
      "cell_type": "code",
      "source": [
        "#39. Write a Python program to train a Naïve Bayes classifier using different prior probabilities and compare performance\n",
        "\n",
        "model = GaussianNB(priors=[0.6, 0.4])  # example for binary class\n",
        "model.fit(X_train, y_train)\n",
        "print(\"Accuracy with priors:\", model.score(X_test, y_test))\n"
      ],
      "metadata": {
        "colab": {
          "base_uri": "https://localhost:8080/"
        },
        "id": "vrSY3hQU_y8-",
        "outputId": "b0065e08-c86e-496a-8cd9-f151d41c599d"
      },
      "execution_count": 14,
      "outputs": [
        {
          "output_type": "stream",
          "name": "stdout",
          "text": [
            "Accuracy with priors: 0.9300699300699301\n"
          ]
        }
      ]
    },
    {
      "cell_type": "code",
      "source": [
        "#40. Write a Python program to perform Recursive Feature Elimination (RFE) before training an SVM Classifier and compare accuracy\n",
        "\n",
        "from sklearn.feature_selection import RFE\n",
        "\n",
        "svm = SVC(kernel='linear')\n",
        "selector = RFE(svm, n_features_to_select=5)\n",
        "selector.fit(X_train, y_train)\n",
        "print(\"SVM accuracy after RFE:\", selector.score(X_test, y_test))\n"
      ],
      "metadata": {
        "colab": {
          "base_uri": "https://localhost:8080/"
        },
        "id": "Qf8zouKc_9o_",
        "outputId": "3ed431a0-810e-48c6-bac6-b47f9ad62372"
      },
      "execution_count": 15,
      "outputs": [
        {
          "output_type": "stream",
          "name": "stdout",
          "text": [
            "SVM accuracy after RFE: 0.8881118881118881\n"
          ]
        }
      ]
    },
    {
      "cell_type": "code",
      "source": [
        "#41. Write a Python program to train an SVM Classifier and evaluate its performance using Precision, Recall, and F1-Score instead of accuracy\n",
        "\n",
        "from sklearn.metrics import precision_score, recall_score, f1_score\n",
        "\n",
        "y_pred = model.predict(X_test)\n",
        "print(\"Precision:\", precision_score(y_test, y_pred))\n",
        "print(\"Recall:\", recall_score(y_test, y_pred))\n",
        "print(\"F1 Score:\", f1_score(y_test, y_pred))\n"
      ],
      "metadata": {
        "colab": {
          "base_uri": "https://localhost:8080/"
        },
        "id": "Wgp229dwAFma",
        "outputId": "62fc27af-5d30-4271-e8c6-724d78b28091"
      },
      "execution_count": 16,
      "outputs": [
        {
          "output_type": "stream",
          "name": "stdout",
          "text": [
            "Precision: 0.9651162790697675\n",
            "Recall: 0.9222222222222223\n",
            "F1 Score: 0.9431818181818182\n"
          ]
        }
      ]
    },
    {
      "cell_type": "code",
      "source": [
        "#42. Write a Python program to train a Naïve Bayes Classifier and evaluate its performance using Log Loss (Cross-Entropy Loss)\n",
        "\n",
        "from sklearn.metrics import log_loss\n",
        "\n",
        "y_proba = model.predict_proba(X_test)\n",
        "print(\"Log Loss:\", log_loss(y_test, y_proba))\n"
      ],
      "metadata": {
        "colab": {
          "base_uri": "https://localhost:8080/"
        },
        "id": "FiSo-L7yANRz",
        "outputId": "cd3e6dad-de47-4939-ad10-da467f8c2915"
      },
      "execution_count": 17,
      "outputs": [
        {
          "output_type": "stream",
          "name": "stdout",
          "text": [
            "Log Loss: 0.5742409281531413\n"
          ]
        }
      ]
    },
    {
      "cell_type": "code",
      "source": [
        "#43.  Write a Python program to train an SVM Classifier and visualize the Confusion Matrix using seaborn\n",
        "\n",
        "from sklearn.metrics import confusion_matrix\n",
        "import seaborn as sns\n",
        "\n",
        "cm = confusion_matrix(y_test, y_pred)\n",
        "sns.heatmap(cm, annot=True, fmt='d', cmap='Blues')\n",
        "plt.title(\"Confusion Matrix\")\n",
        "plt.show()\n"
      ],
      "metadata": {
        "colab": {
          "base_uri": "https://localhost:8080/",
          "height": 452
        },
        "id": "Z6ePn66cAcFF",
        "outputId": "cc6b94d2-a922-4b98-9776-8adcd884a33d"
      },
      "execution_count": 18,
      "outputs": [
        {
          "output_type": "display_data",
          "data": {
            "text/plain": [
              "<Figure size 640x480 with 2 Axes>"
            ],
            "image/png": "[encoded data removed]"
          },
          "metadata": {}
        }
      ]
    },
    {
      "cell_type": "code",
      "source": [
        "#44. Write a Python program to train an SVM Regressor (SVR) and evaluate its performance using Mean Absolute Error (MAE) instead of MSE\n",
        "\n",
        "from sklearn.svm import SVR\n",
        "from sklearn.metrics import mean_absolute_error\n",
        "from sklearn.datasets import make_regression\n",
        "\n",
        "X, y = make_regression(n_samples=100, noise=0.1)\n",
        "X_train, X_test, y_train, y_test = train_test_split(X, y)\n",
        "\n",
        "svr = SVR()\n",
        "svr.fit(X_train, y_train)\n",
        "y_pred = svr.predict(X_test)\n",
        "print(\"MAE:\", mean_absolute_error(y_test, y_pred))\n"
      ],
      "metadata": {
        "colab": {
          "base_uri": "https://localhost:8080/"
        },
        "id": "Jm_ntlMZAkE2",
        "outputId": "a869a1c5-4728-403d-a85d-c0ae151487de"
      },
      "execution_count": 23,
      "outputs": [
        {
          "output_type": "stream",
          "name": "stdout",
          "text": [
            "MAE: 125.60258164236004\n"
          ]
        }
      ]
    },
    {
      "cell_type": "code",
      "source": [
        "#45. Write a Python program to train a Naïve Bayes classifier and evaluate its performance using the ROC-AUC score\n",
        "\n",
        "from sklearn.metrics import roc_auc_score\n",
        "\n",
        "y_proba = model.predict_proba(X_test)[:, 1]\n",
        "print(\"ROC-AUC Score:\", roc_auc_score(y_test, y_proba))\n"
      ],
      "metadata": {
        "id": "ulUi64-BAsQc"
      },
      "execution_count": 25,
      "outputs": []
    },
    {
      "cell_type": "code",
      "source": [
        "#46. Write a Python program to train an SVM Classifier and visualize the Precision-Recall Curve\n",
        "\n",
        "from sklearn.metrics import precision_recall_curve\n",
        "\n",
        "y_scores = model.decision_function(X_test)\n",
        "precision, recall, _ = precision_recall_curve(y_test, y_scores)\n",
        "plt.plot(recall, precision)\n",
        "plt.xlabel(\"Recall\")\n",
        "plt.ylabel(\"Precision\")\n",
        "plt.title(\"Precision-Recall Curve\")\n",
        "plt.show()\n"
      ],
      "metadata": {
        "id": "jDWkw-uAA0h8"
      },
      "execution_count": 26,
      "outputs": []
    },
    {
      "cell_type": "code",
      "source": [],
      "metadata": {
        "id": "vzHL-C7wBMbM"
      },
      "execution_count": null,
      "outputs": []
    }
  ]
}